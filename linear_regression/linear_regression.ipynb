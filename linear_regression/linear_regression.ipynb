{
 "cells": [
  {
   "cell_type": "markdown",
   "metadata": {},
   "source": [
    "# Linear Regression\n",
    "Linear regression is a statistical method that models a relationship between s dependent variables and one or more independant variables\n",
    "\n",
    "**One independant variable**\n",
    "\n",
    "`y = mx + c` where `y` can be house prices and `x` can be house size\n",
    "\n",
    "**Multiple independant variables**\n",
    "\n",
    "`y = w1x1 + w2x2 .... + w6x6 + b` where `y` is the house prices, `x1, x2..` are features like house size, number of bedrooms and distance to city center, and `w1,w2...` are weights which determine the influence of each feature and `b` is the bias, which adjusts the baseline prediction (shifts up or down without changing slope)"
   ]
  },
  {
   "cell_type": "markdown",
   "metadata": {},
   "source": []
  },
  {
   "cell_type": "markdown",
   "metadata": {},
   "source": [
    "## Cost Function (MSE - cost function)\n",
    "Minimise MSE to get the best weight and bias\n",
    "\n",
    "$$\n",
    "MSE = \\frac{1}{N} \\sum_{i=1}^{N} (y_i - \\hat{y}_i)^2\n",
    "$$\n",
    "\n",
    "Where,\n",
    "\n",
    "$ N $ is the number of data points,\n",
    "\n",
    "$ y_i $ is the actual value we are trying to predict,i.e, the target variable,\n",
    "\n",
    "$ hat{y}_i $ is the predicted value from the regression equation\n",
    "\n",
    "MSE measures how far the predictions are from actual values. A smaller MSE means a better fit.\n",
    "\n",
    "### Side Note\n",
    "New terms I learnt were loss function, cost function, and objective function\n",
    "* **Loss function** is defined on data point, prediction and label and measures the penalty (Squared loss, hinge loss, 0/1 loss)\n",
    "\n",
    "* **Cost function** is a bit more general, it is a sum of loss functions over your training set plus some model complexity penalty (regularization) (MSE, SVM cost function)\n",
    "\n",
    "* **Objective function** is the most general term for any function that is optimized during training\n"
   ]
  },
  {
   "cell_type": "markdown",
   "metadata": {},
   "source": [
    "## Gradient Descent Optimation (MSE reductions)\n",
    "This is an iterative algo that updates weight to minimize loss\n",
    "\n",
    "$$\n",
    "w_j = w_j - {\\alpha} \\frac{\\partial MSE}{\\partial w_j}\n",
    "$$\n",
    "\n",
    "and for bias,\n",
    "\n",
    "$$\n",
    "b = b - {\\alpha} \\frac{\\partial MSE}{\\partial b}\n",
    "$$\n",
    "\n",
    "where $ {\\alpha} $ is the learning rate, and the partial function is the gradient of the cost function.\n",
    "\n",
    "Gradient descent moves downhill in the cost function to find the optimal weight and bias (local minimum)"
   ]
  },
  {
   "cell_type": "markdown",
   "metadata": {},
   "source": [
    "## Calculating the Gradient partial\n",
    "\n",
    "For biases,\n",
    "\n",
    "$$\n",
    "\\frac{\\partial MSE}{\\partial b} = \\frac{-2}{N} \\sum_{i=1}^{N} (y_i - \\hat{y}_i)\n",
    "$$\n",
    "\n",
    "For weights,\n",
    "\n",
    "$$\n",
    "\\frac{\\partial MSE}{\\partial w_j} = \\frac{-2}{N} \\sum_{i=1}^{N} x_i (y_i - \\hat{y}_i)\n",
    "$$\n",
    "\n",
    "Here $\\hat{y}_i$ is equal to ${x_i}{W} + {b}$\n"
   ]
  },
  {
   "cell_type": "markdown",
   "metadata": {},
   "source": [
    "## Implementation\n",
    "\n",
    "Possible functions include, cost_function(), compute_gradients() (the partial derivative), grad_desc() and a predict() for fitting"
   ]
  },
  {
   "cell_type": "code",
   "execution_count": 32,
   "metadata": {},
   "outputs": [],
   "source": [
    "import numpy as np\n",
    "from sklearn import datasets\n",
    "import matplotlib.pyplot as plt"
   ]
  },
  {
   "cell_type": "code",
   "execution_count": 77,
   "metadata": {},
   "outputs": [],
   "source": [
    "X1, y1 = datasets.make_regression(n_samples=100, n_features=1, noise=15, random_state=2)"
   ]
  },
  {
   "cell_type": "code",
   "execution_count": 76,
   "metadata": {},
   "outputs": [],
   "source": [
    "#Generate random data\n",
    "X_data, y_points = datasets.make_regression(n_samples=100, n_features=1, noise=20, random_state=2)"
   ]
  },
  {
   "cell_type": "code",
   "execution_count": 96,
   "metadata": {},
   "outputs": [
    {
     "name": "stdout",
     "output_type": "stream",
     "text": [
      "[ -39.28111368   60.36088967   75.52329534   44.96973636   67.66126148\n",
      "  -72.56783539   19.01828591  -22.48725552 -142.24576438  -15.18039423\n",
      "   30.97837048   96.49616637  -32.18524905   -2.73343352   51.91525767\n",
      "    3.15477977   59.67514565  -39.18356672   77.51342439    2.12711018\n",
      "   46.68645147  -19.761177    -48.75839881  -64.53825927   28.77572075\n",
      "  -64.91364323   19.42416802   27.95857927   47.08740928  -84.85367831\n",
      "   -5.27930487    1.63049652  -49.65719062  115.44179673  -15.90690036\n",
      "   84.79331953  -75.6361891     9.44506047   -1.10256915   75.29608508\n",
      " -123.12209367   -9.2643982   -89.78307298    6.92428027   -1.37114106\n",
      "  -25.12536695   86.08123884  -30.90683686  -25.0568712    57.12871401\n",
      "  -59.45098934  -31.08914872  -19.63623245   35.24070197 -105.60242742\n",
      "  105.79285848   33.5416947    61.17460846  -55.74511813  -20.22825731\n",
      "   22.61124007  -98.27810976    2.51352804  -48.6592866    -0.80311042\n",
      "    7.54015095   82.78973256  -40.39608706 -167.01636233  -16.85774471\n",
      "   38.07736278   62.11552806  -43.76716725  -21.72322566 -145.21657026\n",
      "   52.47950288  -70.08095861  -81.46341231  -31.22319839   31.93634207\n",
      "    9.80885417   16.27732067  -82.0026651    32.12925769   19.84053667\n",
      "    4.7638933  -135.75753122  -26.07994395   74.9019179     7.4922353\n",
      "   37.76513716  -77.51141039  105.71270776  -26.05475138  157.64933729\n",
      " -120.01528779 -110.34447888   19.41625394  -24.34594172   -6.97226993]\n"
     ]
    }
   ],
   "source": [
    "# print(X_data)\n",
    "print(y_points)\n"
   ]
  },
  {
   "cell_type": "code",
   "execution_count": null,
   "metadata": {},
   "outputs": [],
   "source": [
    "class LinearRegression:\n",
    "    def __init__(self, learning_rate=0.01, epochs=100, batch_size=10):\n",
    "        self.learning_rate = learning_rate\n",
    "        self.epochs = epochs\n",
    "        self.batch_size = batch_size\n",
    "        self.weights = None\n",
    "        self.biases = None\n",
    "\n",
    "    def cost_function(self,y, y_pred):\n",
    "        return np.mean((y - y_pred) **2) # for a single data point, will be used in a loop to iterate over all points\n",
    "    \n",
    "    def compute_grad(self, X, y, y_pred):\n",
    "        error = y - y_pred\n",
    "\n",
    "        db = -2 * np.mean(error) # np.mean handles over N samples, can substitute with len(X)\n",
    "        dW = -2 * np.mean(X.T.dot(error)) # Transpose X to fit vector of error\n",
    "\n",
    "        return db, dW\n",
    "        \n",
    "    def grad_desc(self, X, y):\n",
    "        cost_func = []\n",
    "        self.weights = np.zeros(X.shape[1])  # If X has shape (N, d), initialize weights as a vector of size d which is features\n",
    "        self.biases = 0  \n",
    "        for epoch in range(self.epochs):\n",
    "            y_pred = np.dot(X, self.weights) + self.biases # get y_pred first\n",
    "            cost = self.cost_function(y, y_pred)\n",
    "            cost_func.append(cost)\n",
    "            dB, dW = self.compute_grad(X, y, y_pred)\n",
    "            self.weights = self.weights - self.learning_rate * dW\n",
    "            self.biases = self.biases - self.learning_rate * dB\n",
    "            if epoch % 2 == 0:\n",
    "                print(f\"Epoch {epoch}/{self.epochs}, Cost: {cost}\")\n",
    "        return self.weights, self.biases, cost_func\n",
    "\n",
    "    def predict(self, X):\n",
    "        return np.dot(X,self.weights) + self.biases"
   ]
  },
  {
   "cell_type": "code",
   "execution_count": 94,
   "metadata": {},
   "outputs": [
    {
     "name": "stdout",
     "output_type": "stream",
     "text": [
      "Epoch 0/100, Cost: 4011.9182645632814\n",
      "Epoch 2/100, Cost: 34659654.31778082\n",
      "Epoch 4/100, Cost: 327993810146.6009\n",
      "Epoch 6/100, Cost: 3103926616733905.5\n",
      "Epoch 8/100, Cost: 2.937360448363235e+19\n",
      "Epoch 10/100, Cost: 2.7797327285683415e+23\n",
      "Epoch 12/100, Cost: 2.6305637929385236e+27\n",
      "Epoch 14/100, Cost: 2.4893997173185362e+31\n",
      "Epoch 16/100, Cost: 2.3558109365076466e+35\n",
      "Epoch 18/100, Cost: 2.229390937083847e+39\n",
      "Epoch 20/100, Cost: 2.1097550203751072e+43\n",
      "Epoch 22/100, Cost: 1.9965391318133657e+47\n",
      "Epoch 24/100, Cost: 1.889398753108948e+51\n",
      "Epoch 26/100, Cost: 1.788007853874286e+55\n",
      "Epoch 28/100, Cost: 1.6920578995067134e+59\n",
      "Epoch 30/100, Cost: 1.6012569123112868e+63\n",
      "Epoch 32/100, Cost: 1.5153285830066257e+67\n",
      "Epoch 34/100, Cost: 1.4340114299100563e+71\n",
      "Epoch 36/100, Cost: 1.3570580032434413e+75\n",
      "Epoch 38/100, Cost: 1.2842341321383926e+79\n",
      "Epoch 40/100, Cost: 1.2153182120494749e+83\n",
      "Epoch 42/100, Cost: 1.150100530406995e+87\n",
      "Epoch 44/100, Cost: 1.088382628457314e+91\n",
      "Epoch 46/100, Cost: 1.0299766973487586e+95\n",
      "Epoch 48/100, Cost: 9.747050066253999e+98\n",
      "Epoch 50/100, Cost: 9.223993633896023e+102\n",
      "Epoch 52/100, Cost: 8.729006004875613e+106\n",
      "Epoch 54/100, Cost: 8.260580921603599e+110\n",
      "Epoch 56/100, Cost: 7.817292956866712e+114\n",
      "Epoch 58/100, Cost: 7.397793176223099e+118\n",
      "Epoch 60/100, Cost: 7.000805033166961e+122\n",
      "Epoch 62/100, Cost: 6.625120484571089e+126\n",
      "Epoch 64/100, Cost: 6.269596314586676e+130\n",
      "Epoch 66/100, Cost: 5.9331506558138616e+134\n",
      "Epoch 68/100, Cost: 5.614759697156862e+138\n",
      "Epoch 70/100, Cost: 5.313454568345633e+142\n",
      "Epoch 72/100, Cost: 5.028318391643588e+146\n",
      "Epoch 74/100, Cost: 4.7584834917697354e+150\n",
      "Epoch 76/100, Cost: 4.503128755544815e+154\n",
      "Epoch 78/100, Cost: 4.261477133226934e+158\n",
      "Epoch 80/100, Cost: 4.0327932739331444e+162\n",
      "Epoch 82/100, Cost: 3.8163812879514865e+166\n",
      "Epoch 84/100, Cost: 3.611582629134214e+170\n",
      "Epoch 86/100, Cost: 3.4177740909282576e+174\n",
      "Epoch 88/100, Cost: 3.2343659099447883e+178\n",
      "Epoch 90/100, Cost: 3.060799971297042e+182\n",
      "Epoch 92/100, Cost: 2.896548110245166e+186\n",
      "Epoch 94/100, Cost: 2.741110504980015e+190\n",
      "Epoch 96/100, Cost: 2.5940141556550308e+194\n",
      "Epoch 98/100, Cost: 2.4548114450379446e+198\n"
     ]
    }
   ],
   "source": [
    "model = LinearRegression(learning_rate=0.05, epochs=100, batch_size=10)\n",
    "weights,biases, cost_func = model.grad_desc(X_data, y_points)"
   ]
  },
  {
   "cell_type": "code",
   "execution_count": 95,
   "metadata": {},
   "outputs": [
    {
     "name": "stdout",
     "output_type": "stream",
     "text": [
      "[-1.46229774e+101]\n",
      "[ 1.28546464e+101 -1.98678007e+101 -2.39715484e+101 -7.91671486e+100\n",
      " -1.20455189e+101  8.73172437e+100  8.36883095e+099  1.94913704e+100\n",
      "  3.56176458e+101  5.92020208e+100 -5.56992676e+100 -1.99789582e+101\n",
      "  1.09501945e+101  5.59300145e+100 -1.23051246e+101  1.14326135e+100\n",
      " -6.32491249e+100  3.18925868e+100 -2.14477278e+101 -1.63430258e+100\n",
      " -2.53009797e+101  4.92269669e+100  1.60809294e+101  1.23229473e+101\n",
      " -8.26653844e+100  1.54845059e+101 -1.01506237e+101 -7.86854309e+100\n",
      " -7.32455205e+100  2.10629789e+101  2.78469933e+100  1.10307883e+100\n",
      "  2.62394626e+101 -3.26151316e+101 -5.93335054e+099 -1.71464300e+101\n",
      "  2.02598797e+101 -3.14616493e+100  1.35140419e+100 -1.86796161e+101\n",
      "  3.12516418e+101  3.46780830e+100  2.71925415e+101 -4.75304629e+100\n",
      "  1.39518092e+098  5.50750004e+100 -1.52058506e+101  4.96868051e+100\n",
      "  9.92372921e+100 -1.77950196e+101  1.82239141e+101  1.21385212e+101\n",
      "  6.14575000e+100 -5.54953847e+100  2.73311420e+101 -2.31558239e+101\n",
      " -8.92552786e+100 -1.46142332e+101  1.33064924e+101  5.92729272e+099\n",
      "  2.93839369e+099  2.07965220e+101 -5.11693997e+100  1.44729882e+101\n",
      " -6.62298919e+099  5.58680183e+100 -1.07378821e+101  9.33850939e+100\n",
      "  3.89031639e+101  6.10833514e+100 -3.73772937e+100 -5.40290754e+100\n",
      "  9.29499569e+100 -6.87378330e+099  3.42845511e+101 -7.42017222e+100\n",
      "  9.56655846e+100  1.23590125e+101  6.76998832e+100 -2.97203411e+100\n",
      " -7.33952905e+100  3.94850840e+100  1.63614931e+101 -7.65268030e+100\n",
      " -1.26848999e+100 -8.04980549e+100  2.97494299e+101  4.59851783e+100\n",
      " -1.71679217e+101 -9.58172728e+099 -1.82384948e+101  1.73805222e+101\n",
      " -2.05559928e+101  2.30162789e+100 -3.35048114e+101  2.54282371e+101\n",
      "  2.98496924e+101 -1.12603927e+101 -1.17881490e+099  2.25865133e+100]\n"
     ]
    }
   ],
   "source": [
    "predictions = model.predict(X_data)\n",
    "print(predictions)"
   ]
  },
  {
   "cell_type": "markdown",
   "metadata": {},
   "source": []
  },
  {
   "cell_type": "code",
   "execution_count": 93,
   "metadata": {},
   "outputs": [
    {
     "data": {
      "image/png": "[encoded data removed]",
      "text/plain": [
       "<Figure size 640x480 with 1 Axes>"
      ]
     },
     "metadata": {},
     "output_type": "display_data"
    }
   ],
   "source": [
    "plt.scatter(X_data, y_points, color='blue', label='Data Points')\n",
    "plt.xlabel('Feature')\n",
    "plt.ylabel('Target')\n",
    "plt.title('Generated Regression Data')\n",
    "plt.plot(X_data, predictions, linewidth=2,color='black', label='prediction')\n",
    "plt.legend()\n",
    "plt.show()"
   ]
  }
 ],
 "metadata": {
  "kernelspec": {
   "display_name": "CNN_env",
   "language": "python",
   "name": "python3"
  },
  "language_info": {
   "codemirror_mode": {
    "name": "ipython",
    "version": 3
   },
   "file_extension": ".py",
   "mimetype": "text/x-python",
   "name": "python",
   "nbconvert_exporter": "python",
   "pygments_lexer": "ipython3",
   "version": "3.11.5"
  }
 },
 "nbformat": 4,
 "nbformat_minor": 2
}
