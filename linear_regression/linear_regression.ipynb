{
 "cells": [
  {
   "cell_type": "markdown",
   "metadata": {},
   "source": [
    "# Linear Regression\n",
    "Linear regression is a statistical method that models a relationship between s dependent variables and one or more independant variables\n",
    "\n",
    "**One independant variable**\n",
    "\n",
    "`y = mx + c` where `y` can be house prices and `x` can be house size\n",
    "\n",
    "**Multiple independant variables**\n",
    "\n",
    "`y = w1x1 + w2x2 .... + w6x6 + b` where `y` is the house prices, `x1, x2..` are features like house size, number of bedrooms and distance to city center, and `w1,w2...` are weights which determine the influence of each feature and `b` is the bias, which adjusts the baseline prediction (shifts up or down without changing slope)"
   ]
  },
  {
   "cell_type": "markdown",
   "metadata": {},
   "source": []
  },
  {
   "cell_type": "markdown",
   "metadata": {},
   "source": [
    "## Cost Function (MSE - cost function)\n",
    "Minimise MSE to get the best weight and bias\n",
    "\n",
    "$$\n",
    "MSE = \\frac{1}{N} \\sum_{i=1}^{N} (y_i - \\hat{y}_i)^2\n",
    "$$\n",
    "\n",
    "Where,\n",
    "\n",
    "$ N $ is the number of data points,\n",
    "\n",
    "$ y_i $ is the actual value we are trying to predict,i.e, the target variable,\n",
    "\n",
    "$ hat{y}_i $ is the predicted value from the regression equation\n",
    "\n",
    "MSE measures how far the predictions are from actual values. A smaller MSE means a better fit.\n",
    "\n",
    "### Side Note\n",
    "New terms I learnt were loss function, cost function, and objective function\n",
    "* **Loss function** is defined on data point, prediction and label and measures the penalty (Squared loss, hinge loss, 0/1 loss)\n",
    "\n",
    "* **Cost function** is a bit more general, it is a sum of loss functions over your training set plus some model complexity penalty (regularization) (MSE, SVM cost function)\n",
    "\n",
    "* **Objective function** is the most general term for any function that is optimized during training\n"
   ]
  },
  {
   "cell_type": "markdown",
   "metadata": {},
   "source": [
    "## Gradient Descent Optimation (MSE reductions)\n"
   ]
  },
  {
   "cell_type": "markdown",
   "metadata": {},
   "source": []
  }
 ],
 "metadata": {
  "kernelspec": {
   "display_name": "Python 3",
   "language": "python",
   "name": "python3"
  },
  "language_info": {
   "name": "python",
   "version": "3.10.12"
  }
 },
 "nbformat": 4,
 "nbformat_minor": 2
}
