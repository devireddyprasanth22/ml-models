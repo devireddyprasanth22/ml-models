{
 "cells": [
  {
   "cell_type": "markdown",
   "metadata": {},
   "source": [
    "# K means clustering\n",
    "K means clustering is an unsupervised machine learning algorithm that is used for clustering similar data points in a data set\n",
    "\n",
    "An unsupervised model has independant variables and no dependant variables (unlike linear and logistic regression)\n",
    "\n",
    "The aim is to segment a dataset into 'k' distionct clusters, where 'k' is predefined and chosen by user"
   ]
  },
  {
   "cell_type": "markdown",
   "metadata": {},
   "source": []
  }
 ],
 "metadata": {
  "language_info": {
   "name": "python"
  }
 },
 "nbformat": 4,
 "nbformat_minor": 2
}
