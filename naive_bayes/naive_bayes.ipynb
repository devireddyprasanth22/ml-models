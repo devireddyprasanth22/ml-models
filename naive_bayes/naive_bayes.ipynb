{
 "cells": [
  {
   "cell_type": "markdown",
   "metadata": {},
   "source": [
    "# Naive Bayes Algorithm (Classifier)\n",
    "Naive Bayes classifier algorithm is a supervised machine learning algorithm that is used for classification tasks, such as text classification. It uses Bayes' theorem to perform classification tasks.\n",
    "\n",
    "The logic of Bayes Theorem is,\n",
    "\n",
    "$$\n",
    "P(X|Y) = \\frac{P(Y|X) P(X)}{P(Y)}\n",
    "$$\n",
    "\n",
    "Which basically is the probability of X when Y events occur. $P(Y|X)$ is the probability of Y when X occurs. Bayes theorem is basically used to determine the conditional probability of certain events when another event has taken place"
   ]
  },
  {
   "cell_type": "markdown",
   "metadata": {},
   "source": [
    "## What does Naive Bayes look like?\n",
    "It's the assumption that features (predictors) will be considered independently that gives Naive Bayes theorem the name 'Naive'"
   ]
  },
  {
   "cell_type": "markdown",
   "metadata": {},
   "source": []
  }
 ],
 "metadata": {
  "language_info": {
   "name": "python"
  }
 },
 "nbformat": 4,
 "nbformat_minor": 2
}
