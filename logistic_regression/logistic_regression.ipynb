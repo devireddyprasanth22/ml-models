{
 "cells": [
  {
   "cell_type": "markdown",
   "metadata": {},
   "source": [
    "# Logistic Regression\n",
    "Linear regression is a statistical technique that models the probability of events, given one or more independant variables. It is mainly used for binary classification tasks\n",
    "\n",
    "Unlike in linear regression, where the hypothetical function `y= wx + b` help with calculating unbound values, here we need to find either 0 or 1 (True and False)\n",
    "\n",
    "So,\n",
    "\n",
    "$$\n",
    "y = sigmoid( wx + b )\n",
    "$$\n",
    "\n",
    "sigmoid is an activation function that is defined as,\n",
    "\n",
    "$$\n",
    "sigmoid(z) = \\frac{1}{1 + e^-z}\n",
    "$$\n",
    "\n",
    "Where `e` is the euler number which is equal 2.71828"
   ]
  },
  {
   "cell_type": "markdown",
   "metadata": {},
   "source": []
  }
 ],
 "metadata": {
  "language_info": {
   "name": "python"
  }
 },
 "nbformat": 4,
 "nbformat_minor": 2
}
